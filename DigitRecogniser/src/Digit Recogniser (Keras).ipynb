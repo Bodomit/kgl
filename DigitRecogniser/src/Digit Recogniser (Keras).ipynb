{
 "cells": [
  {
   "cell_type": "markdown",
   "metadata": {},
   "source": [
    "This notebook is an abridged version of https://www.kaggle.com/yassineghouzam/introduction-to-cnn-keras-0-997-top-6, with some slight modifications. Done to try out a kaggle competition, plus data preperation and analysis."
   ]
  },
  {
   "cell_type": "markdown",
   "metadata": {},
   "source": [
    "# 1. Introduction"
   ]
  },
  {
   "cell_type": "markdown",
   "metadata": {},
   "source": [
    "This is a 5 Layer Convolutional Neural Network trained on the MNIST dataset.\n",
    "\n",
    "This notebook is seperated into three parts:\n",
    " - Data preparation.\n",
    " - The CNN model.\n",
    " - The results."
   ]
  },
  {
   "cell_type": "code",
   "execution_count": 1,
   "metadata": {},
   "outputs": [
    {
     "name": "stderr",
     "output_type": "stream",
     "text": [
      "/home/glen/.conda/envs/kgl-digitRecogniser/lib/python3.6/site-packages/h5py/__init__.py:36: FutureWarning: Conversion of the second argument of issubdtype from `float` to `np.floating` is deprecated. In future, it will be treated as `np.float64 == np.dtype(float).type`.\n",
      "  from ._conv import register_converters as _register_converters\n",
      "Using TensorFlow backend.\n"
     ]
    }
   ],
   "source": [
    "import pandas as pd\n",
    "import numpy as np\n",
    "import matplotlib.pyplot as plt\n",
    "import matplotlib.image as mpimg\n",
    "import seaborn as sns\n",
    "%matplotlib inline\n",
    "\n",
    "np.random.seed(42)\n",
    "\n",
    "from sklearn.model_selection import train_test_split\n",
    "from sklearn.metrics import confusion_matrix\n",
    "import itertools, time\n",
    "\n",
    "from keras.utils.np_utils import to_categorical\n",
    "from keras.models import Sequential\n",
    "from keras.layers import Dense, Dropout, Flatten, Conv2D, MaxPool2D\n",
    "from keras.optimizers import RMSprop\n",
    "from keras.preprocessing.image import ImageDataGenerator\n",
    "from keras.callbacks import ReduceLROnPlateau\n",
    "\n",
    "sns.set(style='white', context='notebook', palette='deep')"
   ]
  },
  {
   "cell_type": "markdown",
   "metadata": {},
   "source": [
    "# 2. Data Preparation"
   ]
  },
  {
   "cell_type": "markdown",
   "metadata": {},
   "source": [
    "## 2.1 Load Data"
   ]
  },
  {
   "cell_type": "code",
   "execution_count": 2,
   "metadata": {},
   "outputs": [],
   "source": [
    "# Load the data.\n",
    "train = pd.read_csv(\"../input/train.csv\")\n",
    "test = pd.read_csv(\"../input/test.csv\")"
   ]
  },
  {
   "cell_type": "code",
   "execution_count": 3,
   "metadata": {},
   "outputs": [],
   "source": [
    "# Get the training data labels.\n",
    "Y_train = train[\"label\"]\n",
    "\n",
    "# Drop the label from the training data.\n",
    "X_train = train.drop(labels = [\"label\"], axis = 1)\n",
    "\n",
    "# Free up redundant memory.\n",
    "del train"
   ]
  },
  {
   "cell_type": "code",
   "execution_count": 4,
   "metadata": {},
   "outputs": [
    {
     "data": {
      "image/png": "[encoded data removed]",
      "text/plain": [
       "<Figure size 432x288 with 1 Axes>"
      ]
     },
     "metadata": {},
     "output_type": "display_data"
    }
   ],
   "source": [
    "# Plot the distribution of the labels.\n",
    "g = sns.countplot(Y_train)"
   ]
  },
  {
   "cell_type": "markdown",
   "metadata": {},
   "source": [
    "## 2.2 Check for Null and Missing Values"
   ]
  },
  {
   "cell_type": "code",
   "execution_count": 5,
   "metadata": {},
   "outputs": [
    {
     "data": {
      "text/plain": [
       "count       784\n",
       "unique        1\n",
       "top       False\n",
       "freq        784\n",
       "dtype: object"
      ]
     },
     "execution_count": 5,
     "metadata": {},
     "output_type": "execute_result"
    }
   ],
   "source": [
    "# Check the training data for nulls.\n",
    "X_train.isnull().any().describe()"
   ]
  },
  {
   "cell_type": "code",
   "execution_count": 6,
   "metadata": {},
   "outputs": [
    {
     "data": {
      "text/plain": [
       "count       784\n",
       "unique        1\n",
       "top       False\n",
       "freq        784\n",
       "dtype: object"
      ]
     },
     "execution_count": 6,
     "metadata": {},
     "output_type": "execute_result"
    }
   ],
   "source": [
    "# Check the test data for nulls.\n",
    "test.isnull().any().describe()"
   ]
  },
  {
   "cell_type": "markdown",
   "metadata": {},
   "source": [
    "## 2.3 Normalization"
   ]
  },
  {
   "cell_type": "code",
   "execution_count": 7,
   "metadata": {},
   "outputs": [],
   "source": [
    "# Normalise the data.\n",
    "X_train = X_train / 255.0\n",
    "test = test / 255.0"
   ]
  },
  {
   "cell_type": "markdown",
   "metadata": {},
   "source": [
    "## 2.4 Reshape"
   ]
  },
  {
   "cell_type": "code",
   "execution_count": 8,
   "metadata": {},
   "outputs": [],
   "source": [
    "# Reshape the dataset so it is images in 3 dimensions (single channel)\n",
    "X_train = X_train.values.reshape(-1,28,28,1)\n",
    "test = test.values.reshape(-1,28,28,1)"
   ]
  },
  {
   "cell_type": "markdown",
   "metadata": {},
   "source": [
    "## 2.5 Label Encoding"
   ]
  },
  {
   "cell_type": "code",
   "execution_count": 9,
   "metadata": {},
   "outputs": [],
   "source": [
    "# Encode the labels to one-hot vectors.\n",
    "Y_train = to_categorical(Y_train, num_classes = 10)"
   ]
  },
  {
   "cell_type": "markdown",
   "metadata": {},
   "source": [
    "## 2.6 Split Training and Validation Set"
   ]
  },
  {
   "cell_type": "code",
   "execution_count": 10,
   "metadata": {},
   "outputs": [],
   "source": [
    "X_train, X_val, Y_train, Y_val = train_test_split(X_train, Y_train, test_size=0.1, random_state=42)"
   ]
  },
  {
   "cell_type": "markdown",
   "metadata": {},
   "source": [
    "## 2.7 An Example"
   ]
  },
  {
   "cell_type": "code",
   "execution_count": 11,
   "metadata": {},
   "outputs": [
    {
     "data": {
      "image/png": "[encoded data removed]",
      "text/plain": [
       "<Figure size 432x288 with 1 Axes>"
      ]
     },
     "metadata": {},
     "output_type": "display_data"
    }
   ],
   "source": [
    "g = plt.imshow(X_train[0][:,:,0], cmap='Greys')"
   ]
  },
  {
   "cell_type": "markdown",
   "metadata": {},
   "source": [
    "# 3. CNN"
   ]
  },
  {
   "cell_type": "markdown",
   "metadata": {},
   "source": [
    "## 3.1 Define the Model"
   ]
  },
  {
   "cell_type": "code",
   "execution_count": 63,
   "metadata": {},
   "outputs": [],
   "source": [
    "# Set the CNN Model.\n",
    "model = Sequential()\n",
    "\n",
    "model.add(Conv2D(filters = 32, kernel_size=(5,5), padding=\"Same\", activation=\"relu\", input_shape=(28,28,1)))\n",
    "model.add(Conv2D(filters = 32, kernel_size=(5,5), padding=\"Same\", activation=\"relu\"))\n",
    "model.add(MaxPool2D(pool_size=(2,2)))\n",
    "model.add(Dropout(0.25))\n",
    "\n",
    "model.add(Conv2D(filters = 64, kernel_size=(3,3), padding=\"Same\", activation=\"relu\"))\n",
    "model.add(Conv2D(filters = 64, kernel_size=(3,3), padding=\"Same\", activation=\"relu\"))\n",
    "model.add(MaxPool2D(pool_size=(2,2)))\n",
    "model.add(Dropout(0.25))\n",
    "\n",
    "\n",
    "model.add(Conv2D(filters = 128, kernel_size=(3,3), padding=\"Same\", activation=\"relu\"))\n",
    "model.add(Conv2D(filters = 128, kernel_size=(3,3), padding=\"Same\", activation=\"relu\"))\n",
    "model.add(Dropout(0.25))\n",
    "\n",
    "model.add(Flatten())\n",
    "model.add(Dense(512, activation=\"relu\"))\n",
    "model.add(Dropout(0.25))\n",
    "model.add(Dense(256, activation=\"relu\"))\n",
    "model.add(Dropout(0.25))\n",
    "model.add(Dense(128, activation=\"relu\"))\n",
    "model.add(Dropout(0.25))\n",
    "model.add(Dense(10, activation=\"softmax\"))"
   ]
  },
  {
   "cell_type": "markdown",
   "metadata": {},
   "source": [
    "## 3.2 Set Optimizer and Annealer"
   ]
  },
  {
   "cell_type": "code",
   "execution_count": 64,
   "metadata": {},
   "outputs": [],
   "source": [
    "# Define the optimizer.\n",
    "optimizer = RMSprop(lr=0.001, rho=0.9, epsilon=1e-08, decay=0.0)\n",
    "\n",
    "# Compile the model.\n",
    "model.compile(optimizer=optimizer, loss=\"categorical_crossentropy\", metrics=[\"accuracy\"])"
   ]
  },
  {
   "cell_type": "code",
   "execution_count": 65,
   "metadata": {},
   "outputs": [],
   "source": [
    "# Set a learning rate annealer.\n",
    "learning_rate_reduction = ReduceLROnPlateau(monitor='val_acc',\n",
    "                                            patience=3,\n",
    "                                            verbose=1,\n",
    "                                            factor=0.5,\n",
    "                                            min_lr=0.00001)"
   ]
  },
  {
   "cell_type": "code",
   "execution_count": 66,
   "metadata": {},
   "outputs": [],
   "source": [
    "# Set number of epochs and the batch size.\n",
    "epochs = 30\n",
    "batch_size = 128"
   ]
  },
  {
   "cell_type": "markdown",
   "metadata": {},
   "source": [
    "## 3.3 Data Augmentation"
   ]
  },
  {
   "cell_type": "code",
   "execution_count": 67,
   "metadata": {},
   "outputs": [],
   "source": [
    "datagen = ImageDataGenerator(\n",
    "    featurewise_center=False, # Set input mean to 0 over the dataset.\n",
    "    samplewise_center=False, # Set each sample mean to 0.\n",
    "    featurewise_std_normalization=False, # Divides inputs by std of the dataset.\n",
    "    samplewise_std_normalization=False, # Divide each input by its std.\n",
    "    zca_whitening=False, # Apply ZCA Whitening\n",
    "    rotation_range=10, # Randomly rotate images in the range of 0 to 180 degrees.\n",
    "    zoom_range=0.1, # Randomly zoom image.\n",
    "    width_shift_range=0.1, # Randomly shift images horizontally (fraction of total width)\n",
    "    height_shift_range=0.1, # Randomly shift images vertically (fraction of total height)\n",
    "    horizontal_flip=False, \n",
    ")\n",
    "\n",
    "datagen.fit(X_train)"
   ]
  },
  {
   "cell_type": "markdown",
   "metadata": {},
   "source": [
    "## 3.4 Fit Model to Training Data"
   ]
  },
  {
   "cell_type": "code",
   "execution_count": 68,
   "metadata": {},
   "outputs": [
    {
     "name": "stdout",
     "output_type": "stream",
     "text": [
      "Epoch 1/30\n",
      " - 19s - loss: 0.8882 - acc: 0.7004 - val_loss: 0.1226 - val_acc: 0.9676\n",
      "Epoch 2/30\n",
      " - 19s - loss: 0.1653 - acc: 0.9556 - val_loss: 0.0520 - val_acc: 0.9864\n",
      "Epoch 3/30\n",
      " - 18s - loss: 0.1110 - acc: 0.9699 - val_loss: 0.0522 - val_acc: 0.9838\n",
      "Epoch 4/30\n",
      " - 19s - loss: 0.0889 - acc: 0.9760 - val_loss: 0.0519 - val_acc: 0.9881\n",
      "Epoch 5/30\n",
      " - 19s - loss: 0.0804 - acc: 0.9782 - val_loss: 0.0569 - val_acc: 0.9871\n",
      "Epoch 6/30\n",
      " - 18s - loss: 0.0747 - acc: 0.9811 - val_loss: 0.0735 - val_acc: 0.9814\n",
      "Epoch 7/30\n",
      " - 18s - loss: 0.0740 - acc: 0.9807 - val_loss: 0.0342 - val_acc: 0.9924\n",
      "Epoch 8/30\n",
      " - 19s - loss: 0.0675 - acc: 0.9833 - val_loss: 0.0417 - val_acc: 0.9912\n",
      "Epoch 9/30\n",
      " - 19s - loss: 0.0715 - acc: 0.9831 - val_loss: 0.0586 - val_acc: 0.9893\n",
      "Epoch 10/30\n",
      " - 19s - loss: 0.0700 - acc: 0.9836 - val_loss: 0.0470 - val_acc: 0.9898\n",
      "Epoch 11/30\n",
      " - 19s - loss: 0.0708 - acc: 0.9823 - val_loss: 0.0521 - val_acc: 0.9914\n",
      "\n",
      "Epoch 00011: ReduceLROnPlateau reducing learning rate to 0.0005000000237487257.\n",
      "Epoch 12/30\n",
      " - 18s - loss: 0.0486 - acc: 0.9877 - val_loss: 0.0351 - val_acc: 0.9933\n",
      "Epoch 13/30\n",
      " - 18s - loss: 0.0467 - acc: 0.9889 - val_loss: 0.0484 - val_acc: 0.9910\n",
      "Epoch 14/30\n",
      " - 19s - loss: 0.0480 - acc: 0.9885 - val_loss: 0.0414 - val_acc: 0.9917\n",
      "Epoch 15/30\n",
      " - 18s - loss: 0.0480 - acc: 0.9888 - val_loss: 0.0374 - val_acc: 0.9912\n",
      "Epoch 16/30\n",
      " - 18s - loss: 0.0490 - acc: 0.9882 - val_loss: 0.0360 - val_acc: 0.9948\n",
      "Epoch 17/30\n",
      " - 18s - loss: 0.0478 - acc: 0.9888 - val_loss: 0.0437 - val_acc: 0.9917\n",
      "Epoch 18/30\n",
      " - 18s - loss: 0.0490 - acc: 0.9891 - val_loss: 0.0379 - val_acc: 0.9924\n",
      "Epoch 19/30\n",
      " - 18s - loss: 0.0484 - acc: 0.9884 - val_loss: 0.0305 - val_acc: 0.9926\n",
      "Epoch 20/30\n",
      " - 19s - loss: 0.0482 - acc: 0.9884 - val_loss: 0.0359 - val_acc: 0.9924\n",
      "\n",
      "Epoch 00020: ReduceLROnPlateau reducing learning rate to 0.0002500000118743628.\n",
      "Epoch 21/30\n",
      " - 18s - loss: 0.0386 - acc: 0.9908 - val_loss: 0.0356 - val_acc: 0.9924\n",
      "Epoch 22/30\n",
      " - 18s - loss: 0.0354 - acc: 0.9916 - val_loss: 0.0422 - val_acc: 0.9919\n",
      "Epoch 23/30\n",
      " - 18s - loss: 0.0369 - acc: 0.9913 - val_loss: 0.0484 - val_acc: 0.9931\n",
      "\n",
      "Epoch 00023: ReduceLROnPlateau reducing learning rate to 0.0001250000059371814.\n",
      "Epoch 24/30\n",
      " - 19s - loss: 0.0342 - acc: 0.9923 - val_loss: 0.0375 - val_acc: 0.9943\n",
      "Epoch 25/30\n",
      " - 18s - loss: 0.0326 - acc: 0.9924 - val_loss: 0.0301 - val_acc: 0.9940\n",
      "Epoch 26/30\n",
      " - 18s - loss: 0.0323 - acc: 0.9923 - val_loss: 0.0362 - val_acc: 0.9940\n",
      "\n",
      "Epoch 00026: ReduceLROnPlateau reducing learning rate to 6.25000029685907e-05.\n",
      "Epoch 27/30\n",
      " - 18s - loss: 0.0306 - acc: 0.9930 - val_loss: 0.0370 - val_acc: 0.9938\n",
      "Epoch 28/30\n",
      " - 18s - loss: 0.0318 - acc: 0.9928 - val_loss: 0.0375 - val_acc: 0.9945\n",
      "Epoch 29/30\n",
      " - 19s - loss: 0.0292 - acc: 0.9930 - val_loss: 0.0381 - val_acc: 0.9921\n",
      "\n",
      "Epoch 00029: ReduceLROnPlateau reducing learning rate to 3.125000148429535e-05.\n",
      "Epoch 30/30\n",
      " - 18s - loss: 0.0272 - acc: 0.9935 - val_loss: 0.0443 - val_acc: 0.9943\n"
     ]
    }
   ],
   "source": [
    "history = model.fit_generator(datagen.flow(X_train, Y_train, batch_size=batch_size),\n",
    "                              epochs=epochs, \n",
    "                              validation_data=(X_val, Y_val),\n",
    "                              verbose=2,\n",
    "                              steps_per_epoch=X_train.shape[0] // batch_size,\n",
    "                              callbacks=[learning_rate_reduction])"
   ]
  },
  {
   "cell_type": "markdown",
   "metadata": {},
   "source": [
    "# 4. Evaluate the Model"
   ]
  },
  {
   "cell_type": "markdown",
   "metadata": {},
   "source": [
    "## 4.1 Training and Validation Curves"
   ]
  },
  {
   "cell_type": "code",
   "execution_count": 76,
   "metadata": {},
   "outputs": [
    {
     "data": {
      "image/png": "[encoded data removed]",
      "text/plain": [
       "<Figure size 432x288 with 2 Axes>"
      ]
     },
     "metadata": {},
     "output_type": "display_data"
    }
   ],
   "source": [
    "# Plot the loss and accuracy curves for trainign and validation.\n",
    "fig, ax = plt.subplots(2,1)\n",
    "ax[0].plot(history.history['loss'], color='b', label=\"Training Loss\")\n",
    "ax[0].plot(history.history['val_loss'], color='r', label=\"Validation Loss\", axes=ax[0])\n",
    "legend = ax[0].legend(loc='best', shadow=True)\n",
    "\n",
    "# Plot the loss and accuracy curves for trainign and validation.\n",
    "ax[1].plot(history.history['acc'], color='b', label=\"Training Accuracy\")\n",
    "ax[1].plot(history.history['val_acc'], color='r', label=\"Validation Accuracy\")\n",
    "legend = ax[1].legend(loc='best', shadow=True)"
   ]
  },
  {
   "cell_type": "markdown",
   "metadata": {},
   "source": [
    "Because the Validation Accuracy is higher than the Training Accuracy, this model is not subject to overfitting the training data. In fact, the training data is harder to predict due to the data augmentation step."
   ]
  },
  {
   "cell_type": "markdown",
   "metadata": {},
   "source": [
    "## 4.2 Confusion Matrix"
   ]
  },
  {
   "cell_type": "code",
   "execution_count": 83,
   "metadata": {},
   "outputs": [],
   "source": [
    "def plot_confusion_matrix(cm, classes, zero_diagonal=False, normalise=False, title=\"Confusion Matrix\", cmap=plt.cm.Blues):\n",
    "    \"\"\"\n",
    "    This function prints and plots the confusion matrix.\n",
    "    The diagonal can be blacked out with `zero_diagonal=True`.\n",
    "    Normalization can be applied by setting `normalise=True`.\n",
    "    \"\"\"\n",
    "    \n",
    "    # Make a float copy of the cm for the grid.\n",
    "    cm_im = np.asarray(cm).astype(float)\n",
    "    \n",
    "    if zero_diagonal:\n",
    "        np.fill_diagonal(cm, 0)\n",
    "        cm_im[range(cm_im.shape[0]), range(cm_im.shape[1])] = np.nan\n",
    "        cmap.set_bad((0.85, 0.85, 0.85, 1))\n",
    "    \n",
    "    # Display the grid.\n",
    "    plt.imshow(cm_im, interpolation='nearest', cmap=cmap)\n",
    "    plt.title(title)\n",
    "    plt.colorbar()\n",
    "    tick_marks = np.arange(len(classes))\n",
    "    plt.xticks(tick_marks, classes, rotation=45)\n",
    "    plt.yticks(tick_marks, classes)\n",
    "    \n",
    "    # Display the text on top of the grid.\n",
    "    if normalise:\n",
    "        cm = cm.astype(float) / cm.sum(axis=1)[:, np.newaxis]\n",
    "        \n",
    "    thresh = cm.max() / 2.\n",
    "    for i, j in itertools.product(range(cm.shape[0]), range(cm.shape[1])):\n",
    "        if zero_diagonal and i == j :\n",
    "            continue\n",
    "        plt.text(j, i, cm[i, j],\n",
    "                 horizontalalignment=\"center\",\n",
    "                 color=\"white\" if cm[i, j] > thresh else \"black\")\n",
    "        \n",
    "    plt.tight_layout()\n",
    "    plt.ylabel(\"True Label\")\n",
    "    plt.xlabel(\"Predicted Label\")\n",
    "    plt.show()"
   ]
  },
  {
   "cell_type": "code",
   "execution_count": 84,
   "metadata": {},
   "outputs": [
    {
     "data": {
      "image/png": "[encoded data removed]",
      "text/plain": [
       "<Figure size 432x288 with 2 Axes>"
      ]
     },
     "metadata": {},
     "output_type": "display_data"
    },
    {
     "data": {
      "image/png": "[encoded data removed]",
      "text/plain": [
       "<Figure size 432x288 with 2 Axes>"
      ]
     },
     "metadata": {},
     "output_type": "display_data"
    }
   ],
   "source": [
    "# Predict the values from the validation dataset.\n",
    "Y_pred = model.predict(X_val)\n",
    "\n",
    "# Convert predictions classed to one-hot vectors.\n",
    "Y_pred_classes = np.argmax(Y_pred, axis=1)\n",
    "\n",
    "# Convert validation observations to one hot vectors.\n",
    "Y_true = np.argmax(Y_val, axis=1)\n",
    "\n",
    "# Compute the confusion matrix.\n",
    "confusion_mtx = confusion_matrix(Y_true, Y_pred_classes)\n",
    "\n",
    "# Plot the confusion matrix.\n",
    "plot_confusion_matrix(confusion_mtx, classes=range(10), zero_diagonal=False)\n",
    "plot_confusion_matrix(confusion_mtx, classes=range(10), \n",
    "                      title=\"Confusion Matrix with Zeroed Diagonal\", \n",
    "                      zero_diagonal=True)"
   ]
  },
  {
   "cell_type": "markdown",
   "metadata": {},
   "source": [
    "## 4.3 Error Investigation"
   ]
  },
  {
   "cell_type": "code",
   "execution_count": 85,
   "metadata": {},
   "outputs": [],
   "source": [
    "# Display some errors.\n",
    "errors = (Y_pred_classes - Y_true != 0)\n",
    "\n",
    "Y_pred_classes_errors = Y_pred_classes[errors]\n",
    "Y_pred_errors = Y_pred[errors]\n",
    "Y_true_errors = Y_true[errors]\n",
    "X_val_errors = X_val[errors]"
   ]
  },
  {
   "cell_type": "code",
   "execution_count": 86,
   "metadata": {},
   "outputs": [],
   "source": [
    "def display_errors(errors_index, img_errors, pred_errors, obs_errors):\n",
    "    \"\"\" This function shows 6 errors with their predicted and real labels. \"\"\"\n",
    "    n = 0\n",
    "    nrows = 2\n",
    "    ncols = 3\n",
    "    fig, ax = plt.subplots(nrows, ncols, sharex=True, sharey=True)\n",
    "    for row in range(nrows):\n",
    "        for col in range(ncols):\n",
    "            error = errors_index[n]\n",
    "            ax[row, col].imshow((img_errors[error]).reshape((28, 28)), cmap=\"Greys\")\n",
    "            ax[row, col].set_title(\"Predicted label :{}\\nTrue label: {}\".format(pred_errors[error], obs_errors[error]))\n",
    "            n += 1"
   ]
  },
  {
   "cell_type": "code",
   "execution_count": 87,
   "metadata": {},
   "outputs": [
    {
     "data": {
      "image/png": "[encoded data removed]",
      "text/plain": [
       "<Figure size 432x288 with 6 Axes>"
      ]
     },
     "metadata": {},
     "output_type": "display_data"
    }
   ],
   "source": [
    "# Probabilities of the wrong predicted numbers.\n",
    "Y_pred_errors_prob = np.max(Y_pred_errors, axis=1)\n",
    "\n",
    "# Predicted probabilities of the true value of the error set.\n",
    "true_prob_errors = np.diagonal(np.take(Y_pred_errors, Y_true_errors, axis=1))\n",
    "\n",
    "# Difference between the probability of the predicted label and the true label.\n",
    "delta_pred_true_errors = Y_pred_errors_prob - true_prob_errors\n",
    "\n",
    "# Sorted list of the delta prob errors.\n",
    "sorted_delta_errors = np.argsort(delta_pred_true_errors)\n",
    "\n",
    "# Top 6 errors\n",
    "most_important_errors = sorted_delta_errors[-6:]\n",
    "\n",
    "# Show top 6 errors.\n",
    "display_errors(most_important_errors, X_val_errors, Y_pred_classes_errors, Y_true_errors)\n"
   ]
  },
  {
   "cell_type": "markdown",
   "metadata": {},
   "source": [
    "## 4.4 Submission"
   ]
  },
  {
   "cell_type": "code",
   "execution_count": 82,
   "metadata": {},
   "outputs": [],
   "source": [
    "# Predict results.\n",
    "results = model.predict(test)\n",
    "\n",
    "# Select the index with the maximum probability.\n",
    "results = np.argmax(results, axis=1)\n",
    "\n",
    "# Save Submission\n",
    "results = pd.Series(results, name=\"Label\")\n",
    "submission = pd.concat([pd.Series(range(1, 28001), name=\"ImageId\"), results], axis=1)\n",
    "submission.to_csv(\"../results/cnn_mnist_datagen-\" + str(int(time.time())) + \".csv\", index=False)"
   ]
  }
 ],
 "metadata": {
  "kernelspec": {
   "display_name": "Python 3",
   "language": "python",
   "name": "python3"
  },
  "language_info": {
   "codemirror_mode": {
    "name": "ipython",
    "version": 3
   },
   "file_extension": ".py",
   "mimetype": "text/x-python",
   "name": "python",
   "nbconvert_exporter": "python",
   "pygments_lexer": "ipython3",
   "version": "3.6.5"
  }
 },
 "nbformat": 4,
 "nbformat_minor": 2
}
